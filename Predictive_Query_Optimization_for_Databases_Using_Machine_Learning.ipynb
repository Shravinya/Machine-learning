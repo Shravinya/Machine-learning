{
  "nbformat": 4,
  "nbformat_minor": 0,
  "metadata": {
    "colab": {
      "provenance": []
    },
    "kernelspec": {
      "name": "python3",
      "display_name": "Python 3"
    },
    "language_info": {
      "name": "python"
    }
  },
  "cells": [
    {
      "cell_type": "code",
      "execution_count": 1,
      "metadata": {
        "colab": {
          "base_uri": "https://localhost:8080/"
        },
        "id": "-NWquxAWAr3j",
        "outputId": "46d86fef-6c44-4f11-edbf-e68c5a8c293e"
      },
      "outputs": [
        {
          "output_type": "stream",
          "name": "stdout",
          "text": [
            "   table_size  num_joins  index_used  query_complexity  execution_time\n",
            "0       10045          4           0          3.207851    32222.863980\n",
            "1       56487          5           1          1.935499    76531.361886\n",
            "2       52794          4           0          3.966140   209388.377075\n",
            "3       71816          3           0          1.949840   140029.730797\n",
            "4       48515          4           0          1.827594    88665.744433\n"
          ]
        }
      ],
      "source": [
        "import sqlite3\n",
        "import pandas as pd\n",
        "import random\n",
        "import numpy as np\n",
        "\n",
        "# Step 1: Simulate query data\n",
        "def simulate_query_data(num_queries=1000):\n",
        "    queries = []\n",
        "    for i in range(num_queries):\n",
        "        table_size = random.randint(1000, 100000)  # in rows\n",
        "        num_joins = random.randint(1, 5)\n",
        "        index_used = random.choice([0, 1])\n",
        "        query_complexity = random.uniform(0.1, 1.0) * num_joins\n",
        "        execution_time = query_complexity * table_size * (1 - 0.3 * index_used)\n",
        "        queries.append([table_size, num_joins, index_used, query_complexity, execution_time])\n",
        "\n",
        "    df = pd.DataFrame(queries, columns=['table_size', 'num_joins', 'index_used', 'query_complexity', 'execution_time'])\n",
        "    return df\n",
        "\n",
        "query_data = simulate_query_data()\n",
        "print(query_data.head())\n"
      ]
    },
    {
      "cell_type": "code",
      "source": [
        "from sklearn.model_selection import train_test_split\n",
        "from sklearn.ensemble import RandomForestRegressor\n",
        "from sklearn.metrics import mean_squared_error\n",
        "\n",
        "# Step 3: Split the data into training and testing sets\n",
        "X = query_data[['table_size', 'num_joins', 'index_used', 'query_complexity']]\n",
        "y = query_data['execution_time']\n",
        "X_train, X_test, y_train, y_test = train_test_split(X, y, test_size=0.2, random_state=42)\n",
        "\n",
        "# Step 4: Train the model\n",
        "model = RandomForestRegressor(n_estimators=100, random_state=42)\n",
        "model.fit(X_train, y_train)\n",
        "\n",
        "# Step 5: Test the model and evaluate\n",
        "y_pred = model.predict(X_test)\n",
        "mse = mean_squared_error(y_test, y_pred)\n",
        "print(f\"Mean Squared Error: {mse}\")\n"
      ],
      "metadata": {
        "colab": {
          "base_uri": "https://localhost:8080/"
        },
        "id": "irlo0-qRAvBy",
        "outputId": "f3517ff3-21c7-4f8c-b0e5-ff4f1e37a737"
      },
      "execution_count": 2,
      "outputs": [
        {
          "output_type": "stream",
          "name": "stdout",
          "text": [
            "Mean Squared Error: 58304824.48618544\n"
          ]
        }
      ]
    },
    {
      "cell_type": "code",
      "source": [
        "def optimize_query(table_size, num_joins, index_used):\n",
        "    query_complexity = num_joins * random.uniform(0.1, 1.0)\n",
        "\n",
        "    # Step 6: Create a DataFrame with the same feature names as the training data\n",
        "    features = pd.DataFrame([[table_size, num_joins, index_used, query_complexity]],\n",
        "                            columns=['table_size', 'num_joins', 'index_used', 'query_complexity'])\n",
        "\n",
        "    # Step 7: Predict execution time using the trained model\n",
        "    predicted_time = model.predict(features)[0]\n",
        "\n",
        "    # Step 8: Suggest an optimized query plan (e.g., using index if not used)\n",
        "    if index_used == 0:\n",
        "        alternative_time_with_index = predicted_time * 0.7  # Assume index reduces time by 30%\n",
        "        if alternative_time_with_index < predicted_time:\n",
        "            return f\"Use Index: Predicted Time = {alternative_time_with_index:.2f} ms\"\n",
        "\n",
        "    return f\"Predicted Execution Time: {predicted_time:.2f} ms\"\n",
        "\n",
        "# Example usage\n",
        "print(optimize_query(table_size=5000, num_joins=3, index_used=0))\n",
        "print(optimize_query(table_size=30000, num_joins=2, index_used=1))\n"
      ],
      "metadata": {
        "colab": {
          "base_uri": "https://localhost:8080/"
        },
        "id": "eVajAw97A422",
        "outputId": "a8449f76-8d3a-4f06-8524-a306d2f9c7fc"
      },
      "execution_count": 4,
      "outputs": [
        {
          "output_type": "stream",
          "name": "stdout",
          "text": [
            "Use Index: Predicted Time = 8976.18 ms\n",
            "Predicted Execution Time: 13535.36 ms\n"
          ]
        }
      ]
    },
    {
      "cell_type": "code",
      "source": [],
      "metadata": {
        "id": "pIz9X2rZA8Na"
      },
      "execution_count": null,
      "outputs": []
    }
  ]
}